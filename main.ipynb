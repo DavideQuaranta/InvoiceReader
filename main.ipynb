{
 "cells": [
  {
   "cell_type": "code",
   "execution_count": 1,
   "id": "fe02099d",
   "metadata": {},
   "outputs": [],
   "source": [
    "try:\n",
    "  import pdfplumber as pdf\n",
    "except:\n",
    "  !pip install pdfplumber\n",
    "  import pdfplumber as pdf\n",
    "\n",
    "try:\n",
    "  import os\n",
    "except:\n",
    "  !pip install os\n",
    "  import os\n",
    "    \n",
    "try:\n",
    "  import pandas as pd\n",
    "except:\n",
    "  !pip install pandas\n",
    "  import pandas as pd"
   ]
  },
  {
   "cell_type": "code",
   "execution_count": 2,
   "id": "70570e2b",
   "metadata": {},
   "outputs": [
    {
     "name": "stdout",
     "output_type": "stream",
     "text": [
      "                  INVOICE READER                 \n",
      "-------------------------------------------------\n",
      "\n",
      "Hi! Welcome to invoice reader!\n",
      "Please write the invoice directory : C:\\Users\\Admin\\Desktop\\LettoreFatture\n",
      "4 pdf found!\n",
      "\n"
     ]
    }
   ],
   "source": [
    "# shows files in working directory\n",
    "print(\"                  INVOICE READER                 \")\n",
    "print(\"-------------------------------------------------\\n\")\n",
    "print(\"Hi! Welcome to invoice reader!\")\n",
    "check = False\n",
    "while check == False:\n",
    "    path = input(\"Please write the invoice directory : \")\n",
    "    if os.path.exists(path):\n",
    "        check = True\n",
    "    else:\n",
    "        print(\"ERROR : Path not Found! Try Again! \\n\")\n",
    "        \n",
    "files = os.listdir(path)\n",
    "\n",
    "# opens a pdf object\n",
    "files = [files[i] for i in range(len(files)) if files[i].endswith('pdf') == True]\n",
    "open_files = [pdf.open(files[i]) for i in range(len(files))]\n",
    "pages = [open_files[i].pages for i in range(len(files))]\n",
    "\n",
    "print(f\"{len(files)} pdf found!\\n\")"
   ]
  },
  {
   "cell_type": "code",
   "execution_count": 3,
   "id": "6be04810",
   "metadata": {
    "scrolled": false
   },
   "outputs": [],
   "source": [
    "words_dict = []\n",
    "text = ''\n",
    "# for every page the text is extracted\n",
    "for k in range(len(pages)):\n",
    "    for i in range(len(pages[0])):\n",
    "        text += pages[k][i].extract_text()\n",
    "    words_dict.append(text)\n",
    "    text = ''\n",
    "    \n",
    "# we split the text at each endline\n",
    "lines = []\n",
    "for i in range(len(words_dict)):\n",
    "    lines.append(words_dict[i].split(sep = '\\n'))\n",
    "\n",
    "# we separate keys from values in every entry\n",
    "# and delete lines who don't contain values\n",
    "split = []\n",
    "entries = []\n",
    "\n",
    "for k in range(len(lines)):\n",
    "    split.append([lines[k][i].split(sep = ':') for i in range(len(lines[k]))])\n",
    "    entries.append([split[k][i] for i in range(len(split[k])) if len(split[k][i]) == 2])"
   ]
  },
  {
   "cell_type": "code",
   "execution_count": 4,
   "id": "d4a3867d",
   "metadata": {},
   "outputs": [],
   "source": [
    "# we store separately keys and values\n",
    "# and put them in a dictionary\n",
    "keys = [list(list(zip(*entries[i]))[0]) for i in range(len(entries))]\n",
    "values = [list(list(zip(*entries[i]))[1]) for i in range(len(entries))]\n",
    "\n",
    "\n",
    "new_dict = [{key: value for key,\n",
    "            value in zip(keys[i], values[i])} for i in range(len(entries))]\n",
    "\n",
    "# converts dictionaries to dataframe and to excel\n",
    "df = [pd.DataFrame(new_dict[i], index = [0]) for i in range(len(new_dict))]\n",
    "final = df[0]\n",
    "for k in range(len(df)-1):\n",
    "    final = pd.merge(final,df[k+1], 'outer')\n",
    "\n",
    "final.to_excel(\"output.xlsx\")"
   ]
  }
 ],
 "metadata": {
  "kernelspec": {
   "display_name": "Python 3 (ipykernel)",
   "language": "python",
   "name": "python3"
  },
  "language_info": {
   "codemirror_mode": {
    "name": "ipython",
    "version": 3
   },
   "file_extension": ".py",
   "mimetype": "text/x-python",
   "name": "python",
   "nbconvert_exporter": "python",
   "pygments_lexer": "ipython3",
   "version": "3.8.8"
  }
 },
 "nbformat": 4,
 "nbformat_minor": 5
}
