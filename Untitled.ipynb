{
 "cells": [
  {
   "cell_type": "code",
   "execution_count": 1,
   "id": "fe02099d",
   "metadata": {},
   "outputs": [],
   "source": [
    "import pdfplumber as pdf\n",
    "import os\n",
    "import pandas as pd"
   ]
  },
  {
   "cell_type": "code",
   "execution_count": 2,
   "id": "70570e2b",
   "metadata": {},
   "outputs": [
    {
     "name": "stdout",
     "output_type": "stream",
     "text": [
      "['.git', '.gitignore.txt', '.ipynb_checkpoints', 'output.xlsx', 'testfile.pdf', 'Untitled.ipynb']\n"
     ]
    }
   ],
   "source": [
    "# shows files in working directory\n",
    "print(os.listdir())"
   ]
  },
  {
   "cell_type": "code",
   "execution_count": 3,
   "id": "75e68020",
   "metadata": {},
   "outputs": [],
   "source": [
    "# opens a pdf object\n",
    "file = pdf.open('testfile.pdf')"
   ]
  },
  {
   "cell_type": "code",
   "execution_count": 4,
   "id": "6be04810",
   "metadata": {
    "scrolled": false
   },
   "outputs": [],
   "source": [
    "page = file.pages\n",
    "words_dict = ''\n",
    "\n",
    "# for every page the text is extracted\n",
    "for i in range(len(page)):\n",
    "    words_dict += page[i].extract_text()\n",
    "    \n",
    "# we split the text at each endline\n",
    "lines = words_dict.split(sep = '\\n')\n",
    "\n",
    "# we separate keys from values in every entry\n",
    "# and delete lines who don't contain values\n",
    "entries = [lines[i].split(sep = ':') for i in range(len(lines))]\n",
    "entries = [entries[i] for i in range(len(entries)) if len(entries[i]) == 2]"
   ]
  },
  {
   "cell_type": "code",
   "execution_count": 5,
   "id": "d4a3867d",
   "metadata": {},
   "outputs": [],
   "source": [
    "# we store separately keys and values\n",
    "# and put them in a dictionary\n",
    "keys = list(list(zip(*entries))[0])\n",
    "values = list(list(zip(*entries))[1])\n",
    "\n",
    "new_dict = {key: value for key,\n",
    "            value in zip(keys, values)}\n",
    "\n",
    "# converts dictionary to dataframe and to excel\n",
    "df = pd.DataFrame(new_dict, index = [0])\n",
    "df.to_excel(\"output.xlsx\")"
   ]
  }
 ],
 "metadata": {
  "kernelspec": {
   "display_name": "Python 3 (ipykernel)",
   "language": "python",
   "name": "python3"
  },
  "language_info": {
   "codemirror_mode": {
    "name": "ipython",
    "version": 3
   },
   "file_extension": ".py",
   "mimetype": "text/x-python",
   "name": "python",
   "nbconvert_exporter": "python",
   "pygments_lexer": "ipython3",
   "version": "3.8.8"
  }
 },
 "nbformat": 4,
 "nbformat_minor": 5
}
