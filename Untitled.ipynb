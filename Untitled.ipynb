{
 "cells": [
  {
   "cell_type": "code",
   "execution_count": 1,
   "id": "fe02099d",
   "metadata": {},
   "outputs": [],
   "source": [
    "import pdfplumber as pdf\n",
    "import os\n",
    "import pandas as pd"
   ]
  },
  {
   "cell_type": "code",
   "execution_count": 2,
   "id": "70570e2b",
   "metadata": {},
   "outputs": [
    {
     "name": "stdout",
     "output_type": "stream",
     "text": [
      "['.git', '.gitignore', '.ipynb_checkpoints', 'output.xlsx', 'testfile.pdf', 'testfile2.pdf', 'testfile3.pdf', 'testfile4.pdf', 'Untitled.ipynb', '~$output.xlsx']\n"
     ]
    }
   ],
   "source": [
    "# shows files in working directory\n",
    "path = \"C:/Users/Admin/Desktop/LettoreFatture\"\n",
    "files = os.listdir(path)\n",
    "print(files)"
   ]
  },
  {
   "cell_type": "code",
   "execution_count": 3,
   "id": "75e68020",
   "metadata": {},
   "outputs": [],
   "source": [
    "# opens a pdf object\n",
    "files = [files[i] for i in range(len(files)) if files[i].endswith('pdf') == True]\n",
    "open_files = [pdf.open(files[i]) for i in range(len(files))]"
   ]
  },
  {
   "cell_type": "code",
   "execution_count": 4,
   "id": "57a35571",
   "metadata": {},
   "outputs": [
    {
     "data": {
      "text/plain": [
       "2"
      ]
     },
     "execution_count": 4,
     "metadata": {},
     "output_type": "execute_result"
    }
   ],
   "source": [
    "pages = [open_files[i].pages for i in range(len(files))]\n",
    "len(pages[0])"
   ]
  },
  {
   "cell_type": "code",
   "execution_count": 5,
   "id": "6be04810",
   "metadata": {
    "scrolled": false
   },
   "outputs": [],
   "source": [
    "words_dict = []\n",
    "text = ''\n",
    "# for every page the text is extracted\n",
    "for k in range(len(pages)):\n",
    "    for i in range(len(pages[0])):\n",
    "        text += pages[k][i].extract_text()\n",
    "    words_dict.append(text)\n",
    "    text = ''\n",
    "    \n",
    "# we split the text at each endline\n",
    "lines = []\n",
    "for i in range(len(words_dict)):\n",
    "    lines.append(words_dict[i].split(sep = '\\n'))\n",
    "\n",
    "# we separate keys from values in every entry\n",
    "# and delete lines who don't contain values\n",
    "split = []\n",
    "entries = []\n",
    "\n",
    "for k in range(len(lines)):\n",
    "    split.append([lines[k][i].split(sep = ':') for i in range(len(lines[i]))])\n",
    "    entries.append([split[k][i] for i in range(len(split[k])) if len(split[k][i]) == 2])"
   ]
  },
  {
   "cell_type": "code",
   "execution_count": 7,
   "id": "d4a3867d",
   "metadata": {},
   "outputs": [],
   "source": [
    "# we store separately keys and values\n",
    "# and put them in a dictionary\n",
    "keys = list(list(zip(*entries[0]))[0])\n",
    "values = [[entries[j][i][1] for j in range(len(entries))] for i in range(len(entries[0]))]\n",
    "\n",
    "new_dict = {key: value for key,\n",
    "            value in zip(keys, values)}\n",
    "\n",
    "# converts dictionary to dataframe and to excel\n",
    "df = pd.DataFrame(new_dict)\n",
    "df.to_excel(\"output.xlsx\")"
   ]
  }
 ],
 "metadata": {
  "kernelspec": {
   "display_name": "Python 3 (ipykernel)",
   "language": "python",
   "name": "python3"
  },
  "language_info": {
   "codemirror_mode": {
    "name": "ipython",
    "version": 3
   },
   "file_extension": ".py",
   "mimetype": "text/x-python",
   "name": "python",
   "nbconvert_exporter": "python",
   "pygments_lexer": "ipython3",
   "version": "3.8.8"
  }
 },
 "nbformat": 4,
 "nbformat_minor": 5
}
